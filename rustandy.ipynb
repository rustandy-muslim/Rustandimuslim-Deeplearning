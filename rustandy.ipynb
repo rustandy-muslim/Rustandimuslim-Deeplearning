{
  "metadata": {
    "kernelspec": {
      "language": "python",
      "display_name": "Python 3",
      "name": "python3"
    },
    "language_info": {
      "pygments_lexer": "ipython3",
      "nbconvert_exporter": "python",
      "version": "3.6.4",
      "file_extension": ".py",
      "codemirror_mode": {
        "name": "ipython",
        "version": 3
      },
      "name": "python",
      "mimetype": "text/x-python"
    },
    "colab": {
      "provenance": [],
      "include_colab_link": true
    }
  },
  "nbformat_minor": 0,
  "nbformat": 4,
  "cells": [
    {
      "cell_type": "markdown",
      "metadata": {
        "id": "view-in-github",
        "colab_type": "text"
      },
      "source": [
        "<a href=\"https://colab.research.google.com/github/rustandy-muslim/Rustandimuslim-Deeplearning/blob/main/rustandy.ipynb\" target=\"_parent\"><img src=\"https://colab.research.google.com/assets/colab-badge.svg\" alt=\"Open In Colab\"/></a>"
      ]
    },
    {
      "cell_type": "markdown",
      "source": [
        "## Import Library"
      ],
      "metadata": {
        "id": "Gk6iqHjQq3dB"
      }
    },
    {
      "cell_type": "code",
      "source": [
        "from google.colab import drive\n",
        "drive.mount('/content/drive')"
      ],
      "metadata": {
        "colab": {
          "base_uri": "https://localhost:8080/"
        },
        "id": "w9DTWwenrsAu",
        "outputId": "fa5a6acb-bdd7-4acf-c221-1db7e8e8ac3f"
      },
      "execution_count": null,
      "outputs": [
        {
          "output_type": "stream",
          "name": "stdout",
          "text": [
            "Mounted at /content/drive\n"
          ]
        }
      ]
    },
    {
      "cell_type": "code",
      "source": [
        "import pandas as pd\n",
        "import numpy as np\n",
        "import datetime as dt\n",
        "import os\n",
        "import os.path\n",
        "from pathlib import Path\n",
        "import glob\n",
        "import cv2\n",
        "import matplotlib.pyplot as plt\n",
        "import seaborn as sns\n",
        "from sklearn.model_selection import train_test_split\n",
        "from sklearn.preprocessing import LabelEncoder\n",
        "from tensorflow.keras.preprocessing.image import ImageDataGenerator, img_to_array, load_img\n",
        "from tensorflow.keras.callbacks import EarlyStopping\n",
        "from tensorflow.keras.models import Sequential\n",
        "from tensorflow.keras.layers import Conv2D, MaxPooling2D, Dropout, Flatten, Dense, BatchNormalization, GlobalAveragePooling2D, SpatialDropout2D\n",
        "from tensorflow.keras import layers\n",
        "from tensorflow.keras.applications.inception_v3 import InceptionV3\n",
        "from tensorflow.keras.applications.xception import Xception\n",
        "from tensorflow.keras.applications.vgg16 import VGG16\n",
        "from tensorflow.keras.applications.mobilenet import MobileNet\n",
        "from tensorflow.keras.optimizers import RMSprop\n",
        "from tensorflow.keras.models import Model\n",
        "from tensorflow.keras.utils import plot_model\n",
        "from sklearn.metrics import confusion_matrix, classification_report, recall_score, precision_score, f1_score, roc_auc_score, roc_curve\n",
        "from tensorflow.keras.preprocessing import image\n",
        "from PIL import Image"
      ],
      "metadata": {
        "_uuid": "8f2839f25d086af736a60e9eeb907d3b93b6e0e5",
        "_cell_guid": "b1076dfc-b9ad-4769-8c92-a6c4dae69d19",
        "execution": {
          "iopub.status.busy": "2021-12-22T00:55:30.757841Z",
          "iopub.execute_input": "2021-12-22T00:55:30.758367Z",
          "iopub.status.idle": "2021-12-22T00:55:38.762515Z",
          "shell.execute_reply.started": "2021-12-22T00:55:30.758246Z",
          "shell.execute_reply": "2021-12-22T00:55:38.761549Z"
        },
        "trusted": true,
        "id": "AKCpF9zfq3dC"
      },
      "execution_count": null,
      "outputs": []
    },
    {
      "cell_type": "markdown",
      "source": [
        "## Mapping Dataset"
      ],
      "metadata": {
        "id": "kTJ3s0xpq3dE"
      }
    },
    {
      "cell_type": "code",
      "source": [
        "# Selecting Dataset Folder Paths\n",
        "f_dir_ = Path('/content/drive/My Drive/dataset/duaribu/')\n",
        "m_dir_ = Path('/content/drive/My Drive/dataset/tujuhlimaribu/')\n",
        "femaleeyes_filepaths = list(f_dir_.glob(r'**/*.png'))\n",
        "maleeyes_filepaths = list(m_dir_.glob(r'**/*.png'))\n",
        "\n",
        "# Mapping the labels\n",
        "fm_labels = list(map(lambda x: os.path.split(os.path.split(x)[0])[1], femaleeyes_filepaths))\n",
        "ml_labels = list(map(lambda x: os.path.split(os.path.split(x)[0])[1], maleeyes_filepaths))\n",
        "\n",
        "# Paths & labels femalee eyes\n",
        "fm_filepaths = pd.Series(femaleeyes_filepaths, name = 'File').astype(str)\n",
        "fm_labels = pd.Series(fm_labels, name='Label')\n",
        "\n",
        "# Paths & labels malee eyes\n",
        "ml_filepaths = pd.Series(maleeyes_filepaths, name = 'File').astype(str)\n",
        "ml_labels = pd.Series(ml_labels, name='Label')\n",
        "\n",
        "# Concatenating...\n",
        "femaleeyes_df = pd.concat([fm_filepaths, fm_labels], axis=1)\n",
        "maleeyes_df = pd.concat([ml_filepaths, ml_labels], axis=1)\n",
        "\n",
        "df = pd.concat([femaleeyes_df, maleeyes_df])\n",
        "\n",
        "df = df.sample(frac = 1, random_state = 56).reset_index(drop = True)"
      ],
      "metadata": {
        "execution": {
          "iopub.status.busy": "2021-12-22T00:55:38.764138Z",
          "iopub.execute_input": "2021-12-22T00:55:38.764494Z",
          "iopub.status.idle": "2021-12-22T00:56:05.406199Z",
          "shell.execute_reply.started": "2021-12-22T00:55:38.764457Z",
          "shell.execute_reply": "2021-12-22T00:56:05.405304Z"
        },
        "trusted": true,
        "id": "yh6medziq3dE"
      },
      "execution_count": null,
      "outputs": []
    },
    {
      "cell_type": "code",
      "source": [
        "plt.style.use(\"seaborn-white\")"
      ],
      "metadata": {
        "execution": {
          "iopub.status.busy": "2021-12-22T00:56:05.408182Z",
          "iopub.execute_input": "2021-12-22T00:56:05.40865Z",
          "iopub.status.idle": "2021-12-22T00:56:05.41293Z",
          "shell.execute_reply.started": "2021-12-22T00:56:05.408595Z",
          "shell.execute_reply": "2021-12-22T00:56:05.412165Z"
        },
        "trusted": true,
        "colab": {
          "base_uri": "https://localhost:8080/"
        },
        "id": "JIkYm4zQq3dF",
        "outputId": "bb3c9823-4c02-43b9-dd8c-1facbd332f76"
      },
      "execution_count": null,
      "outputs": [
        {
          "output_type": "stream",
          "name": "stderr",
          "text": [
            "<ipython-input-4-41a971457199>:1: MatplotlibDeprecationWarning: The seaborn styles shipped by Matplotlib are deprecated since 3.6, as they no longer correspond to the styles shipped by seaborn. However, they will remain available as 'seaborn-v0_8-<style>'. Alternatively, directly use the seaborn API instead.\n",
            "  plt.style.use(\"seaborn-white\")\n"
          ]
        }
      ]
    },
    {
      "cell_type": "code",
      "source": [
        "vc = df['Label'].value_counts()\n",
        "plt.figure(figsize = (9, 5))\n",
        "sns.barplot(x = vc.index, y = vc)\n",
        "plt.title(\"Number of images for each category in the Training Dataset\", fontsize = 11)\n",
        "plt.show()"
      ],
      "metadata": {
        "execution": {
          "iopub.status.busy": "2021-12-22T00:56:05.416954Z",
          "iopub.execute_input": "2021-12-22T00:56:05.417452Z",
          "iopub.status.idle": "2021-12-22T00:56:05.605399Z",
          "shell.execute_reply.started": "2021-12-22T00:56:05.417417Z",
          "shell.execute_reply": "2021-12-22T00:56:05.604513Z"
        },
        "trusted": true,
        "colab": {
          "base_uri": "https://localhost:8080/",
          "height": 479
        },
        "id": "NRGlJB3Xq3dF",
        "outputId": "cc6488fa-4edb-4e5e-9208-cd9df0dedcc0"
      },
      "execution_count": null,
      "outputs": [
        {
          "output_type": "display_data",
          "data": {
            "text/plain": [
              "<Figure size 900x500 with 1 Axes>"
            ],
            "image/png": "[encoded data removed]"
          },
          "metadata": {}
        }
      ]
    },
    {
      "cell_type": "markdown",
      "source": [
        "## Observing Dataset"
      ],
      "metadata": {
        "id": "u3a2LvRGq3dF"
      }
    },
    {
      "cell_type": "code",
      "source": [
        "figure = plt.figure(figsize=(2,2))\n",
        "x = plt.imread(df[\"File\"][50])\n",
        "plt.imshow(x)\n",
        "plt.xlabel(x.shape)\n",
        "plt.title(df[\"Label\"][50])"
      ],
      "metadata": {
        "execution": {
          "iopub.status.busy": "2021-12-22T00:56:05.606526Z",
          "iopub.execute_input": "2021-12-22T00:56:05.606947Z",
          "iopub.status.idle": "2021-12-22T00:56:05.761388Z",
          "shell.execute_reply.started": "2021-12-22T00:56:05.606916Z",
          "shell.execute_reply": "2021-12-22T00:56:05.760164Z"
        },
        "trusted": true,
        "colab": {
          "base_uri": "https://localhost:8080/",
          "height": 266
        },
        "id": "T0w1dAvPq3dF",
        "outputId": "e357c8a4-b31e-469d-a91f-932a90835a58"
      },
      "execution_count": null,
      "outputs": [
        {
          "output_type": "execute_result",
          "data": {
            "text/plain": [
              "Text(0.5, 1.0, 'duaribu')"
            ]
          },
          "metadata": {},
          "execution_count": 6
        },
        {
          "output_type": "display_data",
          "data": {
            "text/plain": [
              "<Figure size 200x200 with 1 Axes>"
            ],
            "image/png": "[encoded data removed]"
          },
          "metadata": {}
        }
      ]
    },
    {
      "cell_type": "markdown",
      "source": [
        "## Split Dataset"
      ],
      "metadata": {
        "id": "KtqccRZ0q3dG"
      }
    },
    {
      "cell_type": "code",
      "source": [
        "trainset_df, testset_df = train_test_split(df, train_size = 0.75, random_state = 4)\n",
        "\n",
        "display(trainset_df.head())\n",
        "\n",
        "testset_df.head()"
      ],
      "metadata": {
        "execution": {
          "iopub.status.busy": "2021-12-22T00:56:07.552041Z",
          "iopub.execute_input": "2021-12-22T00:56:07.552329Z",
          "iopub.status.idle": "2021-12-22T00:56:07.581235Z",
          "shell.execute_reply.started": "2021-12-22T00:56:07.552302Z",
          "shell.execute_reply": "2021-12-22T00:56:07.579677Z"
        },
        "trusted": true,
        "id": "lN6PYtoLq3dG",
        "colab": {
          "base_uri": "https://localhost:8080/",
          "height": 395
        },
        "outputId": "7dad2ca7-a351-4cc0-91d1-3002396030e3"
      },
      "execution_count": null,
      "outputs": [
        {
          "output_type": "display_data",
          "data": {
            "text/plain": [
              "                                                  File          Label\n",
              "222  /content/drive/My Drive/dataset/tujuhlimaribu/...  tujuhlimaribu\n",
              "143  /content/drive/My Drive/dataset/duaribu/IMG_54...        duaribu\n",
              "6    /content/drive/My Drive/dataset/tujuhlimaribu/...  tujuhlimaribu\n",
              "138  /content/drive/My Drive/dataset/duaribu/IMG_54...        duaribu\n",
              "26   /content/drive/My Drive/dataset/duaribu/IMG_54...        duaribu"
            ],
            "text/html": [
              "\n",
              "  <div id=\"df-6ea36260-c6e7-4c8e-ad73-1586656179bf\" class=\"colab-df-container\">\n",
              "    <div>\n",
              "<style scoped>\n",
              "    .dataframe tbody tr th:only-of-type {\n",
              "        vertical-align: middle;\n",
              "    }\n",
              "\n",
              "    .dataframe tbody tr th {\n",
              "        vertical-align: top;\n",
              "    }\n",
              "\n",
              "    .dataframe thead th {\n",
              "        text-align: right;\n",
              "    }\n",
              "</style>\n",
              "<table border=\"1\" class=\"dataframe\">\n",
              "  <thead>\n",
              "    <tr style=\"text-align: right;\">\n",
              "      <th></th>\n",
              "      <th>File</th>\n",
              "      <th>Label</th>\n",
              "    </tr>\n",
              "  </thead>\n",
              "  <tbody>\n",
              "    <tr>\n",
              "      <th>222</th>\n",
              "      <td>/content/drive/My Drive/dataset/tujuhlimaribu/...</td>\n",
              "      <td>tujuhlimaribu</td>\n",
              "    </tr>\n",
              "    <tr>\n",
              "      <th>143</th>\n",
              "      <td>/content/drive/My Drive/dataset/duaribu/IMG_54...</td>\n",
              "      <td>duaribu</td>\n",
              "    </tr>\n",
              "    <tr>\n",
              "      <th>6</th>\n",
              "      <td>/content/drive/My Drive/dataset/tujuhlimaribu/...</td>\n",
              "      <td>tujuhlimaribu</td>\n",
              "    </tr>\n",
              "    <tr>\n",
              "      <th>138</th>\n",
              "      <td>/content/drive/My Drive/dataset/duaribu/IMG_54...</td>\n",
              "      <td>duaribu</td>\n",
              "    </tr>\n",
              "    <tr>\n",
              "      <th>26</th>\n",
              "      <td>/content/drive/My Drive/dataset/duaribu/IMG_54...</td>\n",
              "      <td>duaribu</td>\n",
              "    </tr>\n",
              "  </tbody>\n",
              "</table>\n",
              "</div>\n",
              "    <div class=\"colab-df-buttons\">\n",
              "\n",
              "  <div class=\"colab-df-container\">\n",
              "    <button class=\"colab-df-convert\" onclick=\"convertToInteractive('df-6ea36260-c6e7-4c8e-ad73-1586656179bf')\"\n",
              "            title=\"Convert this dataframe to an interactive table.\"\n",
              "            style=\"display:none;\">\n",
              "\n",
              "  <svg xmlns=\"http://www.w3.org/2000/svg\" height=\"24px\" viewBox=\"0 -960 960 960\">\n",
              "    <path d=\"M120-120v-720h720v720H120Zm60-500h600v-160H180v160Zm220 220h160v-160H400v160Zm0 220h160v-160H400v160ZM180-400h160v-160H180v160Zm440 0h160v-160H620v160ZM180-180h160v-160H180v160Zm440 0h160v-160H620v160Z\"/>\n",
              "  </svg>\n",
              "    </button>\n",
              "\n",
              "  <style>\n",
              "    .colab-df-container {\n",
              "      display:flex;\n",
              "      gap: 12px;\n",
              "    }\n",
              "\n",
              "    .colab-df-convert {\n",
              "      background-color: #E8F0FE;\n",
              "      border: none;\n",
              "      border-radius: 50%;\n",
              "      cursor: pointer;\n",
              "      display: none;\n",
              "      fill: #1967D2;\n",
              "      height: 32px;\n",
              "      padding: 0 0 0 0;\n",
              "      width: 32px;\n",
              "    }\n",
              "\n",
              "    .colab-df-convert:hover {\n",
              "      background-color: #E2EBFA;\n",
              "      box-shadow: 0px 1px 2px rgba(60, 64, 67, 0.3), 0px 1px 3px 1px rgba(60, 64, 67, 0.15);\n",
              "      fill: #174EA6;\n",
              "    }\n",
              "\n",
              "    .colab-df-buttons div {\n",
              "      margin-bottom: 4px;\n",
              "    }\n",
              "\n",
              "    [theme=dark] .colab-df-convert {\n",
              "      background-color: #3B4455;\n",
              "      fill: #D2E3FC;\n",
              "    }\n",
              "\n",
              "    [theme=dark] .colab-df-convert:hover {\n",
              "      background-color: #434B5C;\n",
              "      box-shadow: 0px 1px 3px 1px rgba(0, 0, 0, 0.15);\n",
              "      filter: drop-shadow(0px 1px 2px rgba(0, 0, 0, 0.3));\n",
              "      fill: #FFFFFF;\n",
              "    }\n",
              "  </style>\n",
              "\n",
              "    <script>\n",
              "      const buttonEl =\n",
              "        document.querySelector('#df-6ea36260-c6e7-4c8e-ad73-1586656179bf button.colab-df-convert');\n",
              "      buttonEl.style.display =\n",
              "        google.colab.kernel.accessAllowed ? 'block' : 'none';\n",
              "\n",
              "      async function convertToInteractive(key) {\n",
              "        const element = document.querySelector('#df-6ea36260-c6e7-4c8e-ad73-1586656179bf');\n",
              "        const dataTable =\n",
              "          await google.colab.kernel.invokeFunction('convertToInteractive',\n",
              "                                                    [key], {});\n",
              "        if (!dataTable) return;\n",
              "\n",
              "        const docLinkHtml = 'Like what you see? Visit the ' +\n",
              "          '<a target=\"_blank\" href=https://colab.research.google.com/notebooks/data_table.ipynb>data table notebook</a>'\n",
              "          + ' to learn more about interactive tables.';\n",
              "        element.innerHTML = '';\n",
              "        dataTable['output_type'] = 'display_data';\n",
              "        await google.colab.output.renderOutput(dataTable, element);\n",
              "        const docLink = document.createElement('div');\n",
              "        docLink.innerHTML = docLinkHtml;\n",
              "        element.appendChild(docLink);\n",
              "      }\n",
              "    </script>\n",
              "  </div>\n",
              "\n",
              "\n",
              "<div id=\"df-43967a7e-5ccb-4a61-bfa8-d0d8680d04c8\">\n",
              "  <button class=\"colab-df-quickchart\" onclick=\"quickchart('df-43967a7e-5ccb-4a61-bfa8-d0d8680d04c8')\"\n",
              "            title=\"Suggest charts\"\n",
              "            style=\"display:none;\">\n",
              "\n",
              "<svg xmlns=\"http://www.w3.org/2000/svg\" height=\"24px\"viewBox=\"0 0 24 24\"\n",
              "     width=\"24px\">\n",
              "    <g>\n",
              "        <path d=\"M19 3H5c-1.1 0-2 .9-2 2v14c0 1.1.9 2 2 2h14c1.1 0 2-.9 2-2V5c0-1.1-.9-2-2-2zM9 17H7v-7h2v7zm4 0h-2V7h2v10zm4 0h-2v-4h2v4z\"/>\n",
              "    </g>\n",
              "</svg>\n",
              "  </button>\n",
              "\n",
              "<style>\n",
              "  .colab-df-quickchart {\n",
              "      --bg-color: #E8F0FE;\n",
              "      --fill-color: #1967D2;\n",
              "      --hover-bg-color: #E2EBFA;\n",
              "      --hover-fill-color: #174EA6;\n",
              "      --disabled-fill-color: #AAA;\n",
              "      --disabled-bg-color: #DDD;\n",
              "  }\n",
              "\n",
              "  [theme=dark] .colab-df-quickchart {\n",
              "      --bg-color: #3B4455;\n",
              "      --fill-color: #D2E3FC;\n",
              "      --hover-bg-color: #434B5C;\n",
              "      --hover-fill-color: #FFFFFF;\n",
              "      --disabled-bg-color: #3B4455;\n",
              "      --disabled-fill-color: #666;\n",
              "  }\n",
              "\n",
              "  .colab-df-quickchart {\n",
              "    background-color: var(--bg-color);\n",
              "    border: none;\n",
              "    border-radius: 50%;\n",
              "    cursor: pointer;\n",
              "    display: none;\n",
              "    fill: var(--fill-color);\n",
              "    height: 32px;\n",
              "    padding: 0;\n",
              "    width: 32px;\n",
              "  }\n",
              "\n",
              "  .colab-df-quickchart:hover {\n",
              "    background-color: var(--hover-bg-color);\n",
              "    box-shadow: 0 1px 2px rgba(60, 64, 67, 0.3), 0 1px 3px 1px rgba(60, 64, 67, 0.15);\n",
              "    fill: var(--button-hover-fill-color);\n",
              "  }\n",
              "\n",
              "  .colab-df-quickchart-complete:disabled,\n",
              "  .colab-df-quickchart-complete:disabled:hover {\n",
              "    background-color: var(--disabled-bg-color);\n",
              "    fill: var(--disabled-fill-color);\n",
              "    box-shadow: none;\n",
              "  }\n",
              "\n",
              "  .colab-df-spinner {\n",
              "    border: 2px solid var(--fill-color);\n",
              "    border-color: transparent;\n",
              "    border-bottom-color: var(--fill-color);\n",
              "    animation:\n",
              "      spin 1s steps(1) infinite;\n",
              "  }\n",
              "\n",
              "  @keyframes spin {\n",
              "    0% {\n",
              "      border-color: transparent;\n",
              "      border-bottom-color: var(--fill-color);\n",
              "      border-left-color: var(--fill-color);\n",
              "    }\n",
              "    20% {\n",
              "      border-color: transparent;\n",
              "      border-left-color: var(--fill-color);\n",
              "      border-top-color: var(--fill-color);\n",
              "    }\n",
              "    30% {\n",
              "      border-color: transparent;\n",
              "      border-left-color: var(--fill-color);\n",
              "      border-top-color: var(--fill-color);\n",
              "      border-right-color: var(--fill-color);\n",
              "    }\n",
              "    40% {\n",
              "      border-color: transparent;\n",
              "      border-right-color: var(--fill-color);\n",
              "      border-top-color: var(--fill-color);\n",
              "    }\n",
              "    60% {\n",
              "      border-color: transparent;\n",
              "      border-right-color: var(--fill-color);\n",
              "    }\n",
              "    80% {\n",
              "      border-color: transparent;\n",
              "      border-right-color: var(--fill-color);\n",
              "      border-bottom-color: var(--fill-color);\n",
              "    }\n",
              "    90% {\n",
              "      border-color: transparent;\n",
              "      border-bottom-color: var(--fill-color);\n",
              "    }\n",
              "  }\n",
              "</style>\n",
              "\n",
              "  <script>\n",
              "    async function quickchart(key) {\n",
              "      const quickchartButtonEl =\n",
              "        document.querySelector('#' + key + ' button');\n",
              "      quickchartButtonEl.disabled = true;  // To prevent multiple clicks.\n",
              "      quickchartButtonEl.classList.add('colab-df-spinner');\n",
              "      try {\n",
              "        const charts = await google.colab.kernel.invokeFunction(\n",
              "            'suggestCharts', [key], {});\n",
              "      } catch (error) {\n",
              "        console.error('Error during call to suggestCharts:', error);\n",
              "      }\n",
              "      quickchartButtonEl.classList.remove('colab-df-spinner');\n",
              "      quickchartButtonEl.classList.add('colab-df-quickchart-complete');\n",
              "    }\n",
              "    (() => {\n",
              "      let quickchartButtonEl =\n",
              "        document.querySelector('#df-43967a7e-5ccb-4a61-bfa8-d0d8680d04c8 button');\n",
              "      quickchartButtonEl.style.display =\n",
              "        google.colab.kernel.accessAllowed ? 'block' : 'none';\n",
              "    })();\n",
              "  </script>\n",
              "</div>\n",
              "    </div>\n",
              "  </div>\n"
            ],
            "application/vnd.google.colaboratory.intrinsic+json": {
              "type": "dataframe",
              "variable_name": "testset_df",
              "summary": "{\n  \"name\": \"testset_df\",\n  \"rows\": 60,\n  \"fields\": [\n    {\n      \"column\": \"File\",\n      \"properties\": {\n        \"dtype\": \"string\",\n        \"num_unique_values\": 60,\n        \"samples\": [\n          \"/content/drive/My Drive/dataset/duaribu/IMG_5445.png\",\n          \"/content/drive/My Drive/dataset/tujuhlimaribu/IMG_5366.png\",\n          \"/content/drive/My Drive/dataset/duaribu/IMG_5471.png\"\n        ],\n        \"semantic_type\": \"\",\n        \"description\": \"\"\n      }\n    },\n    {\n      \"column\": \"Label\",\n      \"properties\": {\n        \"dtype\": \"category\",\n        \"num_unique_values\": 2,\n        \"samples\": [\n          \"tujuhlimaribu\",\n          \"duaribu\"\n        ],\n        \"semantic_type\": \"\",\n        \"description\": \"\"\n      }\n    }\n  ]\n}"
            }
          },
          "metadata": {}
        },
        {
          "output_type": "execute_result",
          "data": {
            "text/plain": [
              "                                                  File          Label\n",
              "198  /content/drive/My Drive/dataset/duaribu/IMG_54...        duaribu\n",
              "90   /content/drive/My Drive/dataset/duaribu/IMG_54...        duaribu\n",
              "89   /content/drive/My Drive/dataset/duaribu/IMG_55...        duaribu\n",
              "91   /content/drive/My Drive/dataset/tujuhlimaribu/...  tujuhlimaribu\n",
              "68   /content/drive/My Drive/dataset/tujuhlimaribu/...  tujuhlimaribu"
            ],
            "text/html": [
              "\n",
              "  <div id=\"df-7d9b4a27-43d9-4f7f-abdb-5a28686d740d\" class=\"colab-df-container\">\n",
              "    <div>\n",
              "<style scoped>\n",
              "    .dataframe tbody tr th:only-of-type {\n",
              "        vertical-align: middle;\n",
              "    }\n",
              "\n",
              "    .dataframe tbody tr th {\n",
              "        vertical-align: top;\n",
              "    }\n",
              "\n",
              "    .dataframe thead th {\n",
              "        text-align: right;\n",
              "    }\n",
              "</style>\n",
              "<table border=\"1\" class=\"dataframe\">\n",
              "  <thead>\n",
              "    <tr style=\"text-align: right;\">\n",
              "      <th></th>\n",
              "      <th>File</th>\n",
              "      <th>Label</th>\n",
              "    </tr>\n",
              "  </thead>\n",
              "  <tbody>\n",
              "    <tr>\n",
              "      <th>198</th>\n",
              "      <td>/content/drive/My Drive/dataset/duaribu/IMG_54...</td>\n",
              "      <td>duaribu</td>\n",
              "    </tr>\n",
              "    <tr>\n",
              "      <th>90</th>\n",
              "      <td>/content/drive/My Drive/dataset/duaribu/IMG_54...</td>\n",
              "      <td>duaribu</td>\n",
              "    </tr>\n",
              "    <tr>\n",
              "      <th>89</th>\n",
              "      <td>/content/drive/My Drive/dataset/duaribu/IMG_55...</td>\n",
              "      <td>duaribu</td>\n",
              "    </tr>\n",
              "    <tr>\n",
              "      <th>91</th>\n",
              "      <td>/content/drive/My Drive/dataset/tujuhlimaribu/...</td>\n",
              "      <td>tujuhlimaribu</td>\n",
              "    </tr>\n",
              "    <tr>\n",
              "      <th>68</th>\n",
              "      <td>/content/drive/My Drive/dataset/tujuhlimaribu/...</td>\n",
              "      <td>tujuhlimaribu</td>\n",
              "    </tr>\n",
              "  </tbody>\n",
              "</table>\n",
              "</div>\n",
              "    <div class=\"colab-df-buttons\">\n",
              "\n",
              "  <div class=\"colab-df-container\">\n",
              "    <button class=\"colab-df-convert\" onclick=\"convertToInteractive('df-7d9b4a27-43d9-4f7f-abdb-5a28686d740d')\"\n",
              "            title=\"Convert this dataframe to an interactive table.\"\n",
              "            style=\"display:none;\">\n",
              "\n",
              "  <svg xmlns=\"http://www.w3.org/2000/svg\" height=\"24px\" viewBox=\"0 -960 960 960\">\n",
              "    <path d=\"M120-120v-720h720v720H120Zm60-500h600v-160H180v160Zm220 220h160v-160H400v160Zm0 220h160v-160H400v160ZM180-400h160v-160H180v160Zm440 0h160v-160H620v160ZM180-180h160v-160H180v160Zm440 0h160v-160H620v160Z\"/>\n",
              "  </svg>\n",
              "    </button>\n",
              "\n",
              "  <style>\n",
              "    .colab-df-container {\n",
              "      display:flex;\n",
              "      gap: 12px;\n",
              "    }\n",
              "\n",
              "    .colab-df-convert {\n",
              "      background-color: #E8F0FE;\n",
              "      border: none;\n",
              "      border-radius: 50%;\n",
              "      cursor: pointer;\n",
              "      display: none;\n",
              "      fill: #1967D2;\n",
              "      height: 32px;\n",
              "      padding: 0 0 0 0;\n",
              "      width: 32px;\n",
              "    }\n",
              "\n",
              "    .colab-df-convert:hover {\n",
              "      background-color: #E2EBFA;\n",
              "      box-shadow: 0px 1px 2px rgba(60, 64, 67, 0.3), 0px 1px 3px 1px rgba(60, 64, 67, 0.15);\n",
              "      fill: #174EA6;\n",
              "    }\n",
              "\n",
              "    .colab-df-buttons div {\n",
              "      margin-bottom: 4px;\n",
              "    }\n",
              "\n",
              "    [theme=dark] .colab-df-convert {\n",
              "      background-color: #3B4455;\n",
              "      fill: #D2E3FC;\n",
              "    }\n",
              "\n",
              "    [theme=dark] .colab-df-convert:hover {\n",
              "      background-color: #434B5C;\n",
              "      box-shadow: 0px 1px 3px 1px rgba(0, 0, 0, 0.15);\n",
              "      filter: drop-shadow(0px 1px 2px rgba(0, 0, 0, 0.3));\n",
              "      fill: #FFFFFF;\n",
              "    }\n",
              "  </style>\n",
              "\n",
              "    <script>\n",
              "      const buttonEl =\n",
              "        document.querySelector('#df-7d9b4a27-43d9-4f7f-abdb-5a28686d740d button.colab-df-convert');\n",
              "      buttonEl.style.display =\n",
              "        google.colab.kernel.accessAllowed ? 'block' : 'none';\n",
              "\n",
              "      async function convertToInteractive(key) {\n",
              "        const element = document.querySelector('#df-7d9b4a27-43d9-4f7f-abdb-5a28686d740d');\n",
              "        const dataTable =\n",
              "          await google.colab.kernel.invokeFunction('convertToInteractive',\n",
              "                                                    [key], {});\n",
              "        if (!dataTable) return;\n",
              "\n",
              "        const docLinkHtml = 'Like what you see? Visit the ' +\n",
              "          '<a target=\"_blank\" href=https://colab.research.google.com/notebooks/data_table.ipynb>data table notebook</a>'\n",
              "          + ' to learn more about interactive tables.';\n",
              "        element.innerHTML = '';\n",
              "        dataTable['output_type'] = 'display_data';\n",
              "        await google.colab.output.renderOutput(dataTable, element);\n",
              "        const docLink = document.createElement('div');\n",
              "        docLink.innerHTML = docLinkHtml;\n",
              "        element.appendChild(docLink);\n",
              "      }\n",
              "    </script>\n",
              "  </div>\n",
              "\n",
              "\n",
              "<div id=\"df-3ecd6d23-00fd-4c99-b104-a29e3ffdc530\">\n",
              "  <button class=\"colab-df-quickchart\" onclick=\"quickchart('df-3ecd6d23-00fd-4c99-b104-a29e3ffdc530')\"\n",
              "            title=\"Suggest charts\"\n",
              "            style=\"display:none;\">\n",
              "\n",
              "<svg xmlns=\"http://www.w3.org/2000/svg\" height=\"24px\"viewBox=\"0 0 24 24\"\n",
              "     width=\"24px\">\n",
              "    <g>\n",
              "        <path d=\"M19 3H5c-1.1 0-2 .9-2 2v14c0 1.1.9 2 2 2h14c1.1 0 2-.9 2-2V5c0-1.1-.9-2-2-2zM9 17H7v-7h2v7zm4 0h-2V7h2v10zm4 0h-2v-4h2v4z\"/>\n",
              "    </g>\n",
              "</svg>\n",
              "  </button>\n",
              "\n",
              "<style>\n",
              "  .colab-df-quickchart {\n",
              "      --bg-color: #E8F0FE;\n",
              "      --fill-color: #1967D2;\n",
              "      --hover-bg-color: #E2EBFA;\n",
              "      --hover-fill-color: #174EA6;\n",
              "      --disabled-fill-color: #AAA;\n",
              "      --disabled-bg-color: #DDD;\n",
              "  }\n",
              "\n",
              "  [theme=dark] .colab-df-quickchart {\n",
              "      --bg-color: #3B4455;\n",
              "      --fill-color: #D2E3FC;\n",
              "      --hover-bg-color: #434B5C;\n",
              "      --hover-fill-color: #FFFFFF;\n",
              "      --disabled-bg-color: #3B4455;\n",
              "      --disabled-fill-color: #666;\n",
              "  }\n",
              "\n",
              "  .colab-df-quickchart {\n",
              "    background-color: var(--bg-color);\n",
              "    border: none;\n",
              "    border-radius: 50%;\n",
              "    cursor: pointer;\n",
              "    display: none;\n",
              "    fill: var(--fill-color);\n",
              "    height: 32px;\n",
              "    padding: 0;\n",
              "    width: 32px;\n",
              "  }\n",
              "\n",
              "  .colab-df-quickchart:hover {\n",
              "    background-color: var(--hover-bg-color);\n",
              "    box-shadow: 0 1px 2px rgba(60, 64, 67, 0.3), 0 1px 3px 1px rgba(60, 64, 67, 0.15);\n",
              "    fill: var(--button-hover-fill-color);\n",
              "  }\n",
              "\n",
              "  .colab-df-quickchart-complete:disabled,\n",
              "  .colab-df-quickchart-complete:disabled:hover {\n",
              "    background-color: var(--disabled-bg-color);\n",
              "    fill: var(--disabled-fill-color);\n",
              "    box-shadow: none;\n",
              "  }\n",
              "\n",
              "  .colab-df-spinner {\n",
              "    border: 2px solid var(--fill-color);\n",
              "    border-color: transparent;\n",
              "    border-bottom-color: var(--fill-color);\n",
              "    animation:\n",
              "      spin 1s steps(1) infinite;\n",
              "  }\n",
              "\n",
              "  @keyframes spin {\n",
              "    0% {\n",
              "      border-color: transparent;\n",
              "      border-bottom-color: var(--fill-color);\n",
              "      border-left-color: var(--fill-color);\n",
              "    }\n",
              "    20% {\n",
              "      border-color: transparent;\n",
              "      border-left-color: var(--fill-color);\n",
              "      border-top-color: var(--fill-color);\n",
              "    }\n",
              "    30% {\n",
              "      border-color: transparent;\n",
              "      border-left-color: var(--fill-color);\n",
              "      border-top-color: var(--fill-color);\n",
              "      border-right-color: var(--fill-color);\n",
              "    }\n",
              "    40% {\n",
              "      border-color: transparent;\n",
              "      border-right-color: var(--fill-color);\n",
              "      border-top-color: var(--fill-color);\n",
              "    }\n",
              "    60% {\n",
              "      border-color: transparent;\n",
              "      border-right-color: var(--fill-color);\n",
              "    }\n",
              "    80% {\n",
              "      border-color: transparent;\n",
              "      border-right-color: var(--fill-color);\n",
              "      border-bottom-color: var(--fill-color);\n",
              "    }\n",
              "    90% {\n",
              "      border-color: transparent;\n",
              "      border-bottom-color: var(--fill-color);\n",
              "    }\n",
              "  }\n",
              "</style>\n",
              "\n",
              "  <script>\n",
              "    async function quickchart(key) {\n",
              "      const quickchartButtonEl =\n",
              "        document.querySelector('#' + key + ' button');\n",
              "      quickchartButtonEl.disabled = true;  // To prevent multiple clicks.\n",
              "      quickchartButtonEl.classList.add('colab-df-spinner');\n",
              "      try {\n",
              "        const charts = await google.colab.kernel.invokeFunction(\n",
              "            'suggestCharts', [key], {});\n",
              "      } catch (error) {\n",
              "        console.error('Error during call to suggestCharts:', error);\n",
              "      }\n",
              "      quickchartButtonEl.classList.remove('colab-df-spinner');\n",
              "      quickchartButtonEl.classList.add('colab-df-quickchart-complete');\n",
              "    }\n",
              "    (() => {\n",
              "      let quickchartButtonEl =\n",
              "        document.querySelector('#df-3ecd6d23-00fd-4c99-b104-a29e3ffdc530 button');\n",
              "      quickchartButtonEl.style.display =\n",
              "        google.colab.kernel.accessAllowed ? 'block' : 'none';\n",
              "    })();\n",
              "  </script>\n",
              "</div>\n",
              "    </div>\n",
              "  </div>\n"
            ],
            "application/vnd.google.colaboratory.intrinsic+json": {
              "type": "dataframe",
              "variable_name": "testset_df",
              "summary": "{\n  \"name\": \"testset_df\",\n  \"rows\": 60,\n  \"fields\": [\n    {\n      \"column\": \"File\",\n      \"properties\": {\n        \"dtype\": \"string\",\n        \"num_unique_values\": 60,\n        \"samples\": [\n          \"/content/drive/My Drive/dataset/duaribu/IMG_5445.png\",\n          \"/content/drive/My Drive/dataset/tujuhlimaribu/IMG_5366.png\",\n          \"/content/drive/My Drive/dataset/duaribu/IMG_5471.png\"\n        ],\n        \"semantic_type\": \"\",\n        \"description\": \"\"\n      }\n    },\n    {\n      \"column\": \"Label\",\n      \"properties\": {\n        \"dtype\": \"category\",\n        \"num_unique_values\": 2,\n        \"samples\": [\n          \"tujuhlimaribu\",\n          \"duaribu\"\n        ],\n        \"semantic_type\": \"\",\n        \"description\": \"\"\n      }\n    }\n  ]\n}"
            }
          },
          "metadata": {},
          "execution_count": 8
        }
      ]
    },
    {
      "cell_type": "code",
      "source": [
        "# converting the Label to a numeric format for testing later...\n",
        "LE = LabelEncoder()\n",
        "\n",
        "y_test = LE.fit_transform(testset_df[\"Label\"])"
      ],
      "metadata": {
        "execution": {
          "iopub.status.busy": "2021-12-22T00:56:07.582971Z",
          "iopub.execute_input": "2021-12-22T00:56:07.583388Z",
          "iopub.status.idle": "2021-12-22T00:56:07.591534Z",
          "shell.execute_reply.started": "2021-12-22T00:56:07.583344Z",
          "shell.execute_reply": "2021-12-22T00:56:07.589872Z"
        },
        "trusted": true,
        "id": "dT7LLF5Rq3dH"
      },
      "execution_count": null,
      "outputs": []
    },
    {
      "cell_type": "code",
      "source": [
        "# Viewing data in training dataset\n",
        "print('Training Dataset:')\n",
        "\n",
        "print(f'Number of images: {trainset_df.shape[0]}')\n",
        "\n",
        "print(f'Number of images with duaribu : {trainset_df[\"Label\"].value_counts()[0]}')\n",
        "print(f'Number of images with tujuhlimaribu: {trainset_df[\"Label\"].value_counts()[1]}\\n')\n",
        "\n",
        "# Viewing data in test dataset\n",
        "print('Test Dataset:')\n",
        "\n",
        "print(f'Number of images: {testset_df.shape[0]}')\n",
        "\n",
        "print(f'Number of images with duaribu: {testset_df[\"Label\"].value_counts()[0]}')\n",
        "print(f'Number of images with tujuhlimaribu: {testset_df[\"Label\"].value_counts()[1]}\\n')"
      ],
      "metadata": {
        "execution": {
          "iopub.status.busy": "2021-12-22T00:56:07.593804Z",
          "iopub.execute_input": "2021-12-22T00:56:07.594137Z",
          "iopub.status.idle": "2021-12-22T00:56:07.626853Z",
          "shell.execute_reply.started": "2021-12-22T00:56:07.594107Z",
          "shell.execute_reply": "2021-12-22T00:56:07.626001Z"
        },
        "trusted": true,
        "id": "UMX-nbE9q3dH",
        "colab": {
          "base_uri": "https://localhost:8080/"
        },
        "outputId": "569d140c-d91a-49f6-fa72-f20d47ed7fa6"
      },
      "execution_count": null,
      "outputs": [
        {
          "output_type": "stream",
          "name": "stdout",
          "text": [
            "Training Dataset:\n",
            "Number of images: 179\n",
            "Number of images with duaribu : 99\n",
            "Number of images with tujuhlimaribu: 80\n",
            "\n",
            "Test Dataset:\n",
            "Number of images: 60\n",
            "Number of images with duaribu: 38\n",
            "Number of images with tujuhlimaribu: 22\n",
            "\n"
          ]
        }
      ]
    },
    {
      "cell_type": "markdown",
      "source": [
        "## Generate Batch Images & Preparing Dataset"
      ],
      "metadata": {
        "id": "ghYv6pEmq3dH"
      }
    },
    {
      "cell_type": "code",
      "source": [
        "train_datagen = ImageDataGenerator(rescale = 1./255,\n",
        "                                    shear_range = 0.2,\n",
        "                                    zoom_range = 0.1,\n",
        "                                    rotation_range = 20,\n",
        "                                    width_shift_range = 0.1,\n",
        "                                    height_shift_range = 0.1,\n",
        "                                    horizontal_flip = True,\n",
        "                                    vertical_flip = True,\n",
        "                                    validation_split = 0.1)\n",
        "\n",
        "test_datagen = ImageDataGenerator(rescale = 1./255)"
      ],
      "metadata": {
        "execution": {
          "iopub.status.busy": "2021-12-22T00:56:07.628061Z",
          "iopub.execute_input": "2021-12-22T00:56:07.62864Z",
          "iopub.status.idle": "2021-12-22T00:56:07.636234Z",
          "shell.execute_reply.started": "2021-12-22T00:56:07.628596Z",
          "shell.execute_reply": "2021-12-22T00:56:07.63531Z"
        },
        "trusted": true,
        "id": "hp4J9M86q3dI"
      },
      "execution_count": null,
      "outputs": []
    },
    {
      "cell_type": "code",
      "source": [
        "print(\"Preparing the training dataset ...\")\n",
        "training_set = train_datagen.flow_from_dataframe(\n",
        "    dataframe = trainset_df,\n",
        "    x_col = \"File\",\n",
        "    y_col = \"Label\",\n",
        "    target_size = (75, 75),\n",
        "    color_mode = \"rgb\",\n",
        "    class_mode = \"binary\",\n",
        "    batch_size = 32,\n",
        "    shuffle = True,\n",
        "    seed = 2,\n",
        "    subset = \"training\")\n",
        "\n",
        "print(\"Preparing the validation dataset ...\")\n",
        "validation_set = train_datagen.flow_from_dataframe(\n",
        "    dataframe = trainset_df,\n",
        "    x_col = \"File\",\n",
        "    y_col = \"Label\",\n",
        "    target_size = (75, 75),\n",
        "    color_mode =\"rgb\",\n",
        "    class_mode = \"binary\",\n",
        "    batch_size = 32,\n",
        "    shuffle = True,\n",
        "    seed = 2,\n",
        "    subset = \"validation\")\n",
        "\n",
        "print(\"Preparing the test dataset ...\")\n",
        "test_set = test_datagen.flow_from_dataframe(\n",
        "    dataframe = testset_df,\n",
        "    x_col = \"File\",\n",
        "    y_col = \"Label\",\n",
        "    target_size = (75, 75),\n",
        "    color_mode =\"rgb\",\n",
        "    class_mode = \"binary\",\n",
        "    shuffle = False,\n",
        "    batch_size = 32)\n",
        "\n",
        "print('Data generators are ready!')"
      ],
      "metadata": {
        "execution": {
          "iopub.status.busy": "2021-12-22T00:56:07.637431Z",
          "iopub.execute_input": "2021-12-22T00:56:07.63781Z",
          "iopub.status.idle": "2021-12-22T00:56:12.200715Z",
          "shell.execute_reply.started": "2021-12-22T00:56:07.637744Z",
          "shell.execute_reply": "2021-12-22T00:56:12.19971Z"
        },
        "trusted": true,
        "id": "NVEu_bvIq3dI",
        "colab": {
          "base_uri": "https://localhost:8080/"
        },
        "outputId": "4b89d31d-31bd-45b1-b061-521bdaff3cbc"
      },
      "execution_count": null,
      "outputs": [
        {
          "output_type": "stream",
          "name": "stdout",
          "text": [
            "Preparing the training dataset ...\n",
            "Found 162 validated image filenames belonging to 2 classes.\n",
            "Preparing the validation dataset ...\n",
            "Found 17 validated image filenames belonging to 2 classes.\n",
            "Preparing the test dataset ...\n",
            "Found 60 validated image filenames belonging to 2 classes.\n",
            "Data generators are ready!\n"
          ]
        }
      ]
    },
    {
      "cell_type": "code",
      "source": [
        "print(\"Training: \")\n",
        "print(training_set.class_indices)\n",
        "print(training_set.image_shape)\n",
        "print(\"---\" * 8)\n",
        "print(\"Validation: \")\n",
        "print(validation_set.class_indices)\n",
        "print(validation_set.image_shape)\n",
        "print(\"---\" * 8)\n",
        "print(\"Test: \")\n",
        "print(test_set.class_indices)\n",
        "print(test_set.image_shape)"
      ],
      "metadata": {
        "execution": {
          "iopub.status.busy": "2021-12-22T00:56:12.202125Z",
          "iopub.execute_input": "2021-12-22T00:56:12.202706Z",
          "iopub.status.idle": "2021-12-22T00:56:12.21303Z",
          "shell.execute_reply.started": "2021-12-22T00:56:12.20266Z",
          "shell.execute_reply": "2021-12-22T00:56:12.211662Z"
        },
        "trusted": true,
        "id": "hj5qpEzBq3dI",
        "colab": {
          "base_uri": "https://localhost:8080/"
        },
        "outputId": "9ae0a036-e8a7-41f4-ad6f-61cca525f7e6"
      },
      "execution_count": null,
      "outputs": [
        {
          "output_type": "stream",
          "name": "stdout",
          "text": [
            "Training: \n",
            "{'duaribu': 0, 'tujuhlimaribu': 1}\n",
            "(75, 75, 3)\n",
            "------------------------\n",
            "Validation: \n",
            "{'duaribu': 0, 'tujuhlimaribu': 1}\n",
            "(75, 75, 3)\n",
            "------------------------\n",
            "Test: \n",
            "{'duaribu': 0, 'tujuhlimaribu': 1}\n",
            "(75, 75, 3)\n"
          ]
        }
      ]
    },
    {
      "cell_type": "code",
      "source": [
        "# Callbacks\n",
        "cb = [EarlyStopping(monitor = 'loss', mode = 'min', patience = 15, restore_best_weights = True)]"
      ],
      "metadata": {
        "execution": {
          "iopub.status.busy": "2021-12-22T00:56:12.214731Z",
          "iopub.execute_input": "2021-12-22T00:56:12.215315Z",
          "iopub.status.idle": "2021-12-22T00:56:12.222735Z",
          "shell.execute_reply.started": "2021-12-22T00:56:12.215267Z",
          "shell.execute_reply": "2021-12-22T00:56:12.221722Z"
        },
        "trusted": true,
        "id": "nWN6GMXKq3dI"
      },
      "execution_count": null,
      "outputs": []
    },
    {
      "cell_type": "markdown",
      "source": [
        "## Setup CNN Model"
      ],
      "metadata": {
        "id": "NEL8mSolq3dJ"
      }
    },
    {
      "cell_type": "markdown",
      "source": [
        "### 1-Convolution"
      ],
      "metadata": {
        "id": "ph4N-P02q3dJ"
      }
    },
    {
      "cell_type": "code",
      "source": [
        "CNN = Sequential()\n",
        "\n",
        "CNN.add(Conv2D(32, (3, 3), input_shape = (75, 75, 3), activation = 'relu'))\n",
        "CNN.add(BatchNormalization())"
      ],
      "metadata": {
        "execution": {
          "iopub.status.busy": "2021-12-22T00:56:12.224247Z",
          "iopub.execute_input": "2021-12-22T00:56:12.224638Z",
          "iopub.status.idle": "2021-12-22T00:56:12.336221Z",
          "shell.execute_reply.started": "2021-12-22T00:56:12.224594Z",
          "shell.execute_reply": "2021-12-22T00:56:12.334962Z"
        },
        "trusted": true,
        "id": "q9s1TOqiq3dJ"
      },
      "execution_count": null,
      "outputs": []
    },
    {
      "cell_type": "markdown",
      "source": [
        "### 2-Max Pooling"
      ],
      "metadata": {
        "id": "RRWr_Nbnq3dJ"
      }
    },
    {
      "cell_type": "code",
      "source": [
        "CNN.add(MaxPooling2D(pool_size = (2, 2)))"
      ],
      "metadata": {
        "execution": {
          "iopub.status.busy": "2021-12-22T00:56:12.337627Z",
          "iopub.execute_input": "2021-12-22T00:56:12.33797Z",
          "iopub.status.idle": "2021-12-22T00:56:12.349427Z",
          "shell.execute_reply.started": "2021-12-22T00:56:12.337934Z",
          "shell.execute_reply": "2021-12-22T00:56:12.348481Z"
        },
        "trusted": true,
        "id": "PSSx1mFhq3dJ"
      },
      "execution_count": null,
      "outputs": []
    },
    {
      "cell_type": "markdown",
      "source": [
        "### 3-Hidden Layers"
      ],
      "metadata": {
        "id": "2I8rptnYq3dK"
      }
    },
    {
      "cell_type": "code",
      "source": [
        "CNN.add(Conv2D(32, (3, 3), activation = 'relu'))\n",
        "CNN.add(MaxPooling2D(pool_size = (2, 2)))\n",
        "CNN.add(Conv2D(64, (3, 3), activation = 'relu'))\n",
        "CNN.add(SpatialDropout2D(0.2))\n",
        "CNN.add(MaxPooling2D(pool_size = (2, 2)))"
      ],
      "metadata": {
        "execution": {
          "iopub.status.busy": "2021-12-22T00:56:12.351457Z",
          "iopub.execute_input": "2021-12-22T00:56:12.351849Z",
          "iopub.status.idle": "2021-12-22T00:56:12.394512Z",
          "shell.execute_reply.started": "2021-12-22T00:56:12.351813Z",
          "shell.execute_reply": "2021-12-22T00:56:12.393391Z"
        },
        "trusted": true,
        "id": "shMAG5L0q3dK"
      },
      "execution_count": null,
      "outputs": []
    },
    {
      "cell_type": "markdown",
      "source": [
        "### 4-Flattening"
      ],
      "metadata": {
        "id": "9xR98tzVq3dK"
      }
    },
    {
      "cell_type": "code",
      "source": [
        "CNN.add(Flatten())"
      ],
      "metadata": {
        "execution": {
          "iopub.status.busy": "2021-12-22T00:56:12.395915Z",
          "iopub.execute_input": "2021-12-22T00:56:12.396204Z",
          "iopub.status.idle": "2021-12-22T00:56:12.405915Z",
          "shell.execute_reply.started": "2021-12-22T00:56:12.396176Z",
          "shell.execute_reply": "2021-12-22T00:56:12.404875Z"
        },
        "trusted": true,
        "id": "yhfclPR4q3dK"
      },
      "execution_count": null,
      "outputs": []
    },
    {
      "cell_type": "markdown",
      "source": [
        "### 5-Dense Neural Network"
      ],
      "metadata": {
        "id": "o4tbvXRNq3dK"
      }
    },
    {
      "cell_type": "code",
      "source": [
        "# Input layer\n",
        "CNN.add(Dense(units = 128, activation = 'relu'))\n",
        "CNN.add(Dropout(0.2))\n",
        "# Output layer (binary classification)\n",
        "CNN.add(Dense(units = 1, activation = 'sigmoid'))\n",
        "\n",
        "print(CNN.summary())"
      ],
      "metadata": {
        "execution": {
          "iopub.status.busy": "2021-12-22T00:56:12.407239Z",
          "iopub.execute_input": "2021-12-22T00:56:12.407559Z",
          "iopub.status.idle": "2021-12-22T00:56:12.449954Z",
          "shell.execute_reply.started": "2021-12-22T00:56:12.407529Z",
          "shell.execute_reply": "2021-12-22T00:56:12.448567Z"
        },
        "trusted": true,
        "id": "suGsCdA5q3dL",
        "colab": {
          "base_uri": "https://localhost:8080/"
        },
        "outputId": "df251448-eb90-4a8c-9be1-6fdc8529367e"
      },
      "execution_count": null,
      "outputs": [
        {
          "output_type": "stream",
          "name": "stdout",
          "text": [
            "Model: \"sequential\"\n",
            "_________________________________________________________________\n",
            " Layer (type)                Output Shape              Param #   \n",
            "=================================================================\n",
            " conv2d (Conv2D)             (None, 73, 73, 32)        896       \n",
            "                                                                 \n",
            " batch_normalization (Batch  (None, 73, 73, 32)        128       \n",
            " Normalization)                                                  \n",
            "                                                                 \n",
            " max_pooling2d (MaxPooling2  (None, 36, 36, 32)        0         \n",
            " D)                                                              \n",
            "                                                                 \n",
            " conv2d_1 (Conv2D)           (None, 34, 34, 32)        9248      \n",
            "                                                                 \n",
            " max_pooling2d_1 (MaxPoolin  (None, 17, 17, 32)        0         \n",
            " g2D)                                                            \n",
            "                                                                 \n",
            " conv2d_2 (Conv2D)           (None, 15, 15, 64)        18496     \n",
            "                                                                 \n",
            " spatial_dropout2d (Spatial  (None, 15, 15, 64)        0         \n",
            " Dropout2D)                                                      \n",
            "                                                                 \n",
            " max_pooling2d_2 (MaxPoolin  (None, 7, 7, 64)          0         \n",
            " g2D)                                                            \n",
            "                                                                 \n",
            " flatten (Flatten)           (None, 3136)              0         \n",
            "                                                                 \n",
            " dense (Dense)               (None, 128)               401536    \n",
            "                                                                 \n",
            " dropout (Dropout)           (None, 128)               0         \n",
            "                                                                 \n",
            " dense_1 (Dense)             (None, 1)                 129       \n",
            "                                                                 \n",
            "=================================================================\n",
            "Total params: 430433 (1.64 MB)\n",
            "Trainable params: 430369 (1.64 MB)\n",
            "Non-trainable params: 64 (256.00 Byte)\n",
            "_________________________________________________________________\n",
            "None\n"
          ]
        }
      ]
    },
    {
      "cell_type": "markdown",
      "source": [
        "### 6-Model Compilation & Training"
      ],
      "metadata": {
        "id": "8zUuk6JIq3dL"
      }
    },
    {
      "cell_type": "code",
      "source": [
        "# Compile\n",
        "CNN.compile(optimizer='adam', loss = 'binary_crossentropy', metrics = ['accuracy'])\n",
        "\n",
        "# Start of counting time...\n",
        "start = dt.datetime.now()\n",
        "\n",
        "# Train\n",
        "CNN_model = CNN.fit(training_set, epochs = 10, validation_data = validation_set, callbacks = cb)\n",
        "\n",
        "# End of counting time...\n",
        "end = dt.datetime.now()\n",
        "time_CNN = end - start\n",
        "print ('\\nTraining and validation time is: ', time_CNN)"
      ],
      "metadata": {
        "execution": {
          "iopub.status.busy": "2021-12-22T00:56:12.966879Z",
          "iopub.execute_input": "2021-12-22T00:56:12.967375Z",
          "iopub.status.idle": "2021-12-22T01:04:35.505664Z",
          "shell.execute_reply.started": "2021-12-22T00:56:12.967339Z",
          "shell.execute_reply": "2021-12-22T01:04:35.504847Z"
        },
        "trusted": true,
        "id": "TdaVCQbAq3dL",
        "colab": {
          "base_uri": "https://localhost:8080/"
        },
        "outputId": "b5f7ceee-9bed-4251-b9b4-7cfaf525b6b1"
      },
      "execution_count": null,
      "outputs": [
        {
          "output_type": "stream",
          "name": "stdout",
          "text": [
            "Epoch 1/10\n",
            "6/6 [==============================] - 84s 16s/step - loss: 0.9410 - accuracy: 0.5926 - val_loss: 0.6961 - val_accuracy: 0.4118\n",
            "Epoch 2/10\n",
            "6/6 [==============================] - 74s 12s/step - loss: 0.6260 - accuracy: 0.6358 - val_loss: 0.6878 - val_accuracy: 0.6471\n",
            "Epoch 3/10\n",
            "6/6 [==============================] - 70s 12s/step - loss: 0.4119 - accuracy: 0.8827 - val_loss: 0.6934 - val_accuracy: 0.4118\n",
            "Epoch 4/10\n",
            "6/6 [==============================] - 69s 11s/step - loss: 0.1549 - accuracy: 0.9753 - val_loss: 0.6567 - val_accuracy: 0.4706\n",
            "Epoch 5/10\n",
            "6/6 [==============================] - 66s 11s/step - loss: 0.0330 - accuracy: 0.9938 - val_loss: 0.7534 - val_accuracy: 0.4118\n",
            "Epoch 6/10\n",
            "6/6 [==============================] - 66s 11s/step - loss: 0.3537 - accuracy: 0.9198 - val_loss: 0.5855 - val_accuracy: 0.8235\n",
            "Epoch 7/10\n",
            "6/6 [==============================] - 65s 13s/step - loss: 0.4491 - accuracy: 0.8704 - val_loss: 0.6687 - val_accuracy: 0.4118\n",
            "Epoch 8/10\n",
            "6/6 [==============================] - 69s 11s/step - loss: 0.1586 - accuracy: 0.9198 - val_loss: 0.6577 - val_accuracy: 0.4118\n",
            "Epoch 9/10\n",
            "6/6 [==============================] - 77s 15s/step - loss: 0.0332 - accuracy: 0.9877 - val_loss: 0.7236 - val_accuracy: 0.4118\n",
            "Epoch 10/10\n",
            "6/6 [==============================] - 72s 12s/step - loss: 0.0477 - accuracy: 0.9815 - val_loss: 0.7912 - val_accuracy: 0.4118\n",
            "\n",
            "Training and validation time is:  0:14:01.783762\n"
          ]
        }
      ]
    },
    {
      "cell_type": "markdown",
      "source": [
        "### 7-Model Training Report"
      ],
      "metadata": {
        "id": "foAxFWPGq3dM"
      }
    },
    {
      "cell_type": "code",
      "source": [
        "acc = CNN_model.history['accuracy']\n",
        "val_acc = CNN_model.history['val_accuracy']\n",
        "loss = CNN_model.history['loss']\n",
        "val_loss = CNN_model.history['val_loss']\n",
        "epochs = range(1, len(acc) + 1)\n",
        "\n",
        "plt.title('Training and validation accuracy')\n",
        "plt.plot(epochs, acc, 'red', label='Training acc')\n",
        "plt.plot(epochs, val_acc, 'green', label='Validation acc')\n",
        "plt.legend()\n",
        "\n",
        "plt.figure()\n",
        "plt.title('Training and validation loss')\n",
        "plt.plot(epochs, loss, 'red', label='Training loss')\n",
        "plt.plot(epochs, val_loss, 'green', label='Validation loss')\n",
        "\n",
        "plt.legend()\n",
        "plt.show()\n"
      ],
      "metadata": {
        "execution": {
          "iopub.status.busy": "2021-12-22T01:04:35.511329Z",
          "iopub.execute_input": "2021-12-22T01:04:35.513315Z",
          "iopub.status.idle": "2021-12-22T01:04:35.831695Z",
          "shell.execute_reply.started": "2021-12-22T01:04:35.511902Z",
          "shell.execute_reply": "2021-12-22T01:04:35.830702Z"
        },
        "trusted": true,
        "id": "nZ_sBX0Cq3dM",
        "colab": {
          "base_uri": "https://localhost:8080/",
          "height": 873
        },
        "outputId": "777e74e2-8dfe-4df6-deea-4ab7ca0dd3af"
      },
      "execution_count": null,
      "outputs": [
        {
          "output_type": "display_data",
          "data": {
            "text/plain": [
              "<Figure size 640x480 with 1 Axes>"
            ],
            "image/png": "[encoded data removed]"
          },
          "metadata": {}
        },
        {
          "output_type": "display_data",
          "data": {
            "text/plain": [
              "<Figure size 640x480 with 1 Axes>"
            ],
            "image/png": "[encoded data removed]"
          },
          "metadata": {}
        }
      ]
    },
    {
      "cell_type": "code",
      "source": [
        "score_CNN = CNN.evaluate(test_set)\n",
        "print(\"Test Loss:\", score_CNN[0])\n",
        "print(\"Test Accuracy:\", score_CNN[1])"
      ],
      "metadata": {
        "execution": {
          "iopub.status.busy": "2021-12-22T01:04:35.833475Z",
          "iopub.execute_input": "2021-12-22T01:04:35.833961Z",
          "iopub.status.idle": "2021-12-22T01:04:59.277607Z",
          "shell.execute_reply.started": "2021-12-22T01:04:35.833916Z",
          "shell.execute_reply": "2021-12-22T01:04:59.276656Z"
        },
        "trusted": true,
        "id": "me4Y_fhrq3dM",
        "colab": {
          "base_uri": "https://localhost:8080/"
        },
        "outputId": "ea1671dd-f843-4011-f2ee-2956dd839159"
      },
      "execution_count": null,
      "outputs": [
        {
          "output_type": "stream",
          "name": "stdout",
          "text": [
            "2/2 [==============================] - 29s 15s/step - loss: 0.7946 - accuracy: 0.3667\n",
            "Test Loss: 0.794626772403717\n",
            "Test Accuracy: 0.36666667461395264\n"
          ]
        }
      ]
    },
    {
      "cell_type": "code",
      "source": [
        "y_pred_CNN = CNN.predict(test_set)\n",
        "y_pred_CNN = np.round(y_pred_CNN)\n",
        "\n",
        "recall_CNN = recall_score(y_test, y_pred_CNN)\n",
        "precision_CNN = precision_score(y_test, y_pred_CNN)\n",
        "f1_CNN = f1_score(y_test, y_pred_CNN)\n",
        "roc_CNN = roc_auc_score(y_test, y_pred_CNN)"
      ],
      "metadata": {
        "execution": {
          "iopub.status.busy": "2021-12-22T01:04:59.279222Z",
          "iopub.execute_input": "2021-12-22T01:04:59.279675Z",
          "iopub.status.idle": "2021-12-22T01:05:03.782109Z",
          "shell.execute_reply.started": "2021-12-22T01:04:59.279636Z",
          "shell.execute_reply": "2021-12-22T01:05:03.781274Z"
        },
        "trusted": true,
        "id": "kpheQBNcq3dM",
        "colab": {
          "base_uri": "https://localhost:8080/"
        },
        "outputId": "40296256-4a01-432d-9abb-57ff66c7e9c5"
      },
      "execution_count": null,
      "outputs": [
        {
          "output_type": "stream",
          "name": "stdout",
          "text": [
            "2/2 [==============================] - 22s 10s/step\n"
          ]
        }
      ]
    },
    {
      "cell_type": "code",
      "source": [
        "plt.figure(figsize = (6, 4))\n",
        "\n",
        "sns.heatmap(confusion_matrix(y_test, y_pred_CNN),annot = True, fmt = 'd')\n",
        "plt.title(\"Confusion Matrix\")\n",
        "plt.xlabel(\"Predicted\")\n",
        "plt.ylabel(\"True\")\n",
        "\n",
        "plt.show()"
      ],
      "metadata": {
        "execution": {
          "iopub.status.busy": "2021-12-22T01:05:03.805283Z",
          "iopub.execute_input": "2021-12-22T01:05:03.8057Z",
          "iopub.status.idle": "2021-12-22T01:05:04.05755Z",
          "shell.execute_reply.started": "2021-12-22T01:05:03.805655Z",
          "shell.execute_reply": "2021-12-22T01:05:04.056523Z"
        },
        "trusted": true,
        "id": "ffKBGe1gq3dV",
        "colab": {
          "base_uri": "https://localhost:8080/",
          "height": 403
        },
        "outputId": "02cd0258-1c44-4b75-b3b0-fec57b0834bc"
      },
      "execution_count": null,
      "outputs": [
        {
          "output_type": "display_data",
          "data": {
            "text/plain": [
              "<Figure size 600x400 with 2 Axes>"
            ],
            "image/png": "[encoded data removed]"
          },
          "metadata": {}
        }
      ]
    },
    {
      "cell_type": "code",
      "source": [
        "import numpy as np\n",
        "from keras.preprocessing import image\n",
        "from google.colab import files\n",
        "\n",
        "uploaded = files.upload()\n",
        "\n",
        "for fn in uploaded.keys():\n",
        "\n",
        "  #predicting images\n",
        "  path = fn\n",
        "  img = image.load_img(path, target_size = (75,75))\n",
        "  imgplot = plt.imshow(img)\n",
        "  x = image.img_to_array(img)\n",
        "  x = np.expand_dims(x, axis = 0)\n",
        "\n",
        "  images = np.vstack([x])\n",
        "  classes = CNN.predict(images, batch_size = 100)\n",
        "\n",
        "  print(fn)\n",
        "\n",
        "  class_list = os.listdir(f_dir_)\n",
        "\n",
        "  for j in range(42):\n",
        "    if classes[0][j] == 1. :\n",
        "      print('This image belongs to class', class_list[j-1])\n",
        "      break"
      ],
      "metadata": {
        "colab": {
          "base_uri": "https://localhost:8080/",
          "height": 536
        },
        "id": "0r4tqsK5P4d7",
        "outputId": "c4393c4d-2d6e-4bf6-e657-548b97105120"
      },
      "execution_count": null,
      "outputs": [
        {
          "output_type": "display_data",
          "data": {
            "text/plain": [
              "<IPython.core.display.HTML object>"
            ],
            "text/html": [
              "\n",
              "     <input type=\"file\" id=\"files-2de22db9-044f-4fba-97c5-f43a65ed3f29\" name=\"files[]\" multiple disabled\n",
              "        style=\"border:none\" />\n",
              "     <output id=\"result-2de22db9-044f-4fba-97c5-f43a65ed3f29\">\n",
              "      Upload widget is only available when the cell has been executed in the\n",
              "      current browser session. Please rerun this cell to enable.\n",
              "      </output>\n",
              "      <script>// Copyright 2017 Google LLC\n",
              "//\n",
              "// Licensed under the Apache License, Version 2.0 (the \"License\");\n",
              "// you may not use this file except in compliance with the License.\n",
              "// You may obtain a copy of the License at\n",
              "//\n",
              "//      http://www.apache.org/licenses/LICENSE-2.0\n",
              "//\n",
              "// Unless required by applicable law or agreed to in writing, software\n",
              "// distributed under the License is distributed on an \"AS IS\" BASIS,\n",
              "// WITHOUT WARRANTIES OR CONDITIONS OF ANY KIND, either express or implied.\n",
              "// See the License for the specific language governing permissions and\n",
              "// limitations under the License.\n",
              "\n",
              "/**\n",
              " * @fileoverview Helpers for google.colab Python module.\n",
              " */\n",
              "(function(scope) {\n",
              "function span(text, styleAttributes = {}) {\n",
              "  const element = document.createElement('span');\n",
              "  element.textContent = text;\n",
              "  for (const key of Object.keys(styleAttributes)) {\n",
              "    element.style[key] = styleAttributes[key];\n",
              "  }\n",
              "  return element;\n",
              "}\n",
              "\n",
              "// Max number of bytes which will be uploaded at a time.\n",
              "const MAX_PAYLOAD_SIZE = 100 * 1024;\n",
              "\n",
              "function _uploadFiles(inputId, outputId) {\n",
              "  const steps = uploadFilesStep(inputId, outputId);\n",
              "  const outputElement = document.getElementById(outputId);\n",
              "  // Cache steps on the outputElement to make it available for the next call\n",
              "  // to uploadFilesContinue from Python.\n",
              "  outputElement.steps = steps;\n",
              "\n",
              "  return _uploadFilesContinue(outputId);\n",
              "}\n",
              "\n",
              "// This is roughly an async generator (not supported in the browser yet),\n",
              "// where there are multiple asynchronous steps and the Python side is going\n",
              "// to poll for completion of each step.\n",
              "// This uses a Promise to block the python side on completion of each step,\n",
              "// then passes the result of the previous step as the input to the next step.\n",
              "function _uploadFilesContinue(outputId) {\n",
              "  const outputElement = document.getElementById(outputId);\n",
              "  const steps = outputElement.steps;\n",
              "\n",
              "  const next = steps.next(outputElement.lastPromiseValue);\n",
              "  return Promise.resolve(next.value.promise).then((value) => {\n",
              "    // Cache the last promise value to make it available to the next\n",
              "    // step of the generator.\n",
              "    outputElement.lastPromiseValue = value;\n",
              "    return next.value.response;\n",
              "  });\n",
              "}\n",
              "\n",
              "/**\n",
              " * Generator function which is called between each async step of the upload\n",
              " * process.\n",
              " * @param {string} inputId Element ID of the input file picker element.\n",
              " * @param {string} outputId Element ID of the output display.\n",
              " * @return {!Iterable<!Object>} Iterable of next steps.\n",
              " */\n",
              "function* uploadFilesStep(inputId, outputId) {\n",
              "  const inputElement = document.getElementById(inputId);\n",
              "  inputElement.disabled = false;\n",
              "\n",
              "  const outputElement = document.getElementById(outputId);\n",
              "  outputElement.innerHTML = '';\n",
              "\n",
              "  const pickedPromise = new Promise((resolve) => {\n",
              "    inputElement.addEventListener('change', (e) => {\n",
              "      resolve(e.target.files);\n",
              "    });\n",
              "  });\n",
              "\n",
              "  const cancel = document.createElement('button');\n",
              "  inputElement.parentElement.appendChild(cancel);\n",
              "  cancel.textContent = 'Cancel upload';\n",
              "  const cancelPromise = new Promise((resolve) => {\n",
              "    cancel.onclick = () => {\n",
              "      resolve(null);\n",
              "    };\n",
              "  });\n",
              "\n",
              "  // Wait for the user to pick the files.\n",
              "  const files = yield {\n",
              "    promise: Promise.race([pickedPromise, cancelPromise]),\n",
              "    response: {\n",
              "      action: 'starting',\n",
              "    }\n",
              "  };\n",
              "\n",
              "  cancel.remove();\n",
              "\n",
              "  // Disable the input element since further picks are not allowed.\n",
              "  inputElement.disabled = true;\n",
              "\n",
              "  if (!files) {\n",
              "    return {\n",
              "      response: {\n",
              "        action: 'complete',\n",
              "      }\n",
              "    };\n",
              "  }\n",
              "\n",
              "  for (const file of files) {\n",
              "    const li = document.createElement('li');\n",
              "    li.append(span(file.name, {fontWeight: 'bold'}));\n",
              "    li.append(span(\n",
              "        `(${file.type || 'n/a'}) - ${file.size} bytes, ` +\n",
              "        `last modified: ${\n",
              "            file.lastModifiedDate ? file.lastModifiedDate.toLocaleDateString() :\n",
              "                                    'n/a'} - `));\n",
              "    const percent = span('0% done');\n",
              "    li.appendChild(percent);\n",
              "\n",
              "    outputElement.appendChild(li);\n",
              "\n",
              "    const fileDataPromise = new Promise((resolve) => {\n",
              "      const reader = new FileReader();\n",
              "      reader.onload = (e) => {\n",
              "        resolve(e.target.result);\n",
              "      };\n",
              "      reader.readAsArrayBuffer(file);\n",
              "    });\n",
              "    // Wait for the data to be ready.\n",
              "    let fileData = yield {\n",
              "      promise: fileDataPromise,\n",
              "      response: {\n",
              "        action: 'continue',\n",
              "      }\n",
              "    };\n",
              "\n",
              "    // Use a chunked sending to avoid message size limits. See b/62115660.\n",
              "    let position = 0;\n",
              "    do {\n",
              "      const length = Math.min(fileData.byteLength - position, MAX_PAYLOAD_SIZE);\n",
              "      const chunk = new Uint8Array(fileData, position, length);\n",
              "      position += length;\n",
              "\n",
              "      const base64 = btoa(String.fromCharCode.apply(null, chunk));\n",
              "      yield {\n",
              "        response: {\n",
              "          action: 'append',\n",
              "          file: file.name,\n",
              "          data: base64,\n",
              "        },\n",
              "      };\n",
              "\n",
              "      let percentDone = fileData.byteLength === 0 ?\n",
              "          100 :\n",
              "          Math.round((position / fileData.byteLength) * 100);\n",
              "      percent.textContent = `${percentDone}% done`;\n",
              "\n",
              "    } while (position < fileData.byteLength);\n",
              "  }\n",
              "\n",
              "  // All done.\n",
              "  yield {\n",
              "    response: {\n",
              "      action: 'complete',\n",
              "    }\n",
              "  };\n",
              "}\n",
              "\n",
              "scope.google = scope.google || {};\n",
              "scope.google.colab = scope.google.colab || {};\n",
              "scope.google.colab._files = {\n",
              "  _uploadFiles,\n",
              "  _uploadFilesContinue,\n",
              "};\n",
              "})(self);\n",
              "</script> "
            ]
          },
          "metadata": {}
        },
        {
          "output_type": "stream",
          "name": "stdout",
          "text": [
            "Saving rus.jpeg to rus (8).jpeg\n",
            "1/1 [==============================] - 0s 24ms/step\n",
            "rus (8).jpeg\n",
            "This image belongs to class IMG_5411.png\n"
          ]
        },
        {
          "output_type": "display_data",
          "data": {
            "text/plain": [
              "<Figure size 640x480 with 1 Axes>"
            ],
            "image/png": "[encoded data removed]"
          },
          "metadata": {}
        }
      ]
    }
  ]
}